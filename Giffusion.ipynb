{
  "cells": [
    {
      "cell_type": "code",
      "execution_count": null,
      "metadata": {
        "cellView": "form",
        "id": "gImek_6REhoo"
      },
      "outputs": [],
      "source": [
        "#@markdown # 1. Run GPU Check\n",
        "!nvidia-smi"
      ]
    },
    {
      "cell_type": "code",
      "execution_count": null,
      "metadata": {
        "cellView": "form",
        "id": "z2CMaBHUDuyP"
      },
      "outputs": [],
      "source": [
        "#@markdown # 2. Mount Google Drive (Optional) \n",
        "#@markdown Mount to Google Drive save all generated images and videos in Drive\n",
        "mount_google_drive = True #@param {type:\"boolean\"}\n",
        "force_remount = False\n",
        "output_folder_name = \"generated\" #@param {type:\"string\"}\n",
        "\n",
        "if mount_google_drive:\n",
        "    from google.colab import drive # type: ignore\n",
        "    try:\n",
        "        drive_path = \"/content/drive\"\n",
        "        drive.mount(drive_path, force_remount=force_remount)\n",
        "        output_path_gdrive = f\"/content/drive/MyDrive/Giffusion/{output_folder_name}\"\n",
        "        output_path = output_path_gdrive\n",
        "    except:\n",
        "        print(\"...error mounting drive or with drive path variables\")\n",
        "        print(\"...reverting to default path variables\")\n",
        "\n",
        "import os\n",
        "os.makedirs(output_path, exist_ok=True)\n",
        "%env OUTPUT_BASE_PATH=$output_path\n",
        "print(f\"output_path: {output_path}\")"
      ]
    },
    {
      "cell_type": "code",
      "execution_count": null,
      "metadata": {
        "cellView": "form",
        "id": "LuCTj1r9VzI_"
      },
      "outputs": [],
      "source": [
        "#@markdown # 3. ⚙️  Setup \n",
        "#@markdown Run this cell (hit the play button), to setup the repository and install the necessary dependencies. It should take a few seconds to complete.\n",
        "!rm -rf giffusion \n",
        "!git clone https://github.com/DN6/giffusion.git\n",
        "!git config --global credential.helper store\n",
        "%pip install -r giffusion/requirements.txt --quiet"
      ]
    },
    {
      "cell_type": "code",
      "execution_count": null,
      "metadata": {
        "cellView": "form",
        "id": "UGIxrjNxbn5x"
      },
      "outputs": [],
      "source": [
        "#@markdown # 4. 🤗 Hugging Face Login \n",
        "#@markdown You will need a Hugging Face authentication token to download the Stable Diffusion Model weights. You can find your token [here](https://huggingface.co/settings/tokens)\n",
        "\n",
        "from huggingface_hub import notebook_login\n",
        "notebook_login()"
      ]
    },
    {
      "cell_type": "code",
      "execution_count": null,
      "metadata": {
        "id": "WjPRQRXF44R6"
      },
      "outputs": [],
      "source": [
        "#@markdown # 5. ☄ Comet Settings\n",
        "#@markdown Set your Comet API Key and project here to save your creations to [Comet](https://www.comet.com/site/)\n",
        "import comet_ml\n",
        "\n",
        "comet_ml.config.save(api_key=(\"cjnJnf36fIbldss58P5CYca2J\")\n",
        "\n",
        "use_comet = True #@param{'type':'boolean'}\n",
        "workspace = \"general\" #@param{'type':'string'}\n",
        "project_name = \"giffusion\" #@param{'type':'string'}\n",
        "\n",
        "if use_comet:\n",
        "    import comet_ml\n",
        "    comet_ml.init(project_name=project_name)\n",
        "    config = comet_ml.config.get_config()\n",
        "    config.save(force=True)"
      ]
    },
    {
      "cell_type": "code",
      "execution_count": null,
      "metadata": {
        "cellView": "form",
        "id": "7P4hJ65j3bjJ"
      },
      "outputs": [],
      "source": [
        "#@markdown # 6.✨ Diffusion Model Selector \n",
        "#@markdown Use any Stable Diffusion Model saved to the Hugging Face Hub. \n",
        "model_name = \"CompVis/stable-diffusion-v1-4\" #@param {type:\"string\"}\n",
        "%env PRETRAINED_MODEL_NAME=$model_name"
      ]
    },
    {
      "cell_type": "code",
      "execution_count": null,
      "metadata": {
        "cellView": "form",
        "id": "1qsoLGzNbi28"
      },
      "outputs": [],
      "source": [
        "#@markdown # 7. 🚀 Start App \n",
        "#@markdown Run the cell below to launch the Gradio app. It may take a couple of minutes to download the model weights and start the Gradio App. \n",
        "\n",
        "#@markdown You will see a link next to \"Running on public URL\". Click on it to access the Giffusion UI. \n",
        "#@markdown **Note:** It should take about 15-30 minutes to generate 60 frames, depending on what type of GPU you are assigned. Generated Giffusion GIFs tend to be fairly large files. In order to preserve the user experience, the generated GIFs that you see in the UI are downsampled both in size and quality. \n",
        "\n",
        "#@markdown But fear not! The high resolution version of the GIF/Video has been saved in the notebook (the images are saved in a timestamped folder under the `generated` folder) \n",
        "\n",
        "#@markdown If you have Comet enabled, the images and high resolution GIF/Video will be saved to Comet as well.   \n",
        "!python giffusion/app.py"
      ]
    },
    {
      "cell_type": "code",
      "source": [],
      "metadata": {
        "id": "J4M39xOa-dK_"
      },
      "execution_count": null,
      "outputs": []
    }
  ],
  "metadata": {
    "accelerator": "GPU",
    "colab": {
      "provenance": []
    },
    "gpuClass": "standard",
    "kernelspec": {
      "display_name": "Python 3",
      "name": "python3"
    },
    "language_info": {
      "name": "python"
    }
  },
  "nbformat": 4,
  "nbformat_minor": 0
}